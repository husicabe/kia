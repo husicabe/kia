{
 "cells": [
  {
   "cell_type": "markdown",
   "metadata": {},
   "source": [
    "# Libraries and Settings"
   ]
  },
  {
   "cell_type": "code",
   "execution_count": 5,
   "metadata": {},
   "outputs": [
    {
     "name": "stdout",
     "output_type": "stream",
     "text": [
      "/Users/stud/Documents/Dokumente – MacBook Pro von Abedin/ZHAW/KI/flask_quickstart\n"
     ]
    }
   ],
   "source": [
    "# Libraries\n",
    "import os\n",
    "import numpy as np\n",
    "import pandas as pd\n",
    "import matplotlib.pyplot as plt\n",
    "from sklearn.ensemble import RandomForestRegressor\n",
    "from sklearn.preprocessing import PolynomialFeatures\n",
    "from sklearn.pipeline import Pipeline\n",
    "from sklearn.linear_model import LinearRegression\n",
    "from sklearn.model_selection import train_test_split\n",
    "from sklearn.metrics import mean_squared_error\n",
    "from sklearn.model_selection import cross_val_score\n",
    "\n",
    "# Ignore warnings\n",
    "import warnings\n",
    "warnings.filterwarnings('ignore')\n",
    "\n",
    "# Show current working directory\n",
    "print(os.getcwd())"
   ]
  },
  {
   "cell_type": "markdown",
   "metadata": {},
   "source": [
    "# Data Import"
   ]
  },
  {
   "cell_type": "code",
   "execution_count": 6,
   "metadata": {},
   "outputs": [
    {
     "name": "stdout",
     "output_type": "stream",
     "text": [
      "(2059, 7)\n"
     ]
    },
    {
     "data": {
      "text/html": [
       "<div>\n",
       "<style scoped>\n",
       "    .dataframe tbody tr th:only-of-type {\n",
       "        vertical-align: middle;\n",
       "    }\n",
       "\n",
       "    .dataframe tbody tr th {\n",
       "        vertical-align: top;\n",
       "    }\n",
       "\n",
       "    .dataframe thead th {\n",
       "        text-align: right;\n",
       "    }\n",
       "</style>\n",
       "<table border=\"1\" class=\"dataframe\">\n",
       "  <thead>\n",
       "    <tr style=\"text-align: right;\">\n",
       "      <th></th>\n",
       "      <th>bfs_number</th>\n",
       "      <th>bfs_name</th>\n",
       "      <th>pop</th>\n",
       "      <th>pop_dens</th>\n",
       "      <th>frg_pct</th>\n",
       "      <th>emp</th>\n",
       "      <th>tax_income</th>\n",
       "    </tr>\n",
       "  </thead>\n",
       "  <tbody>\n",
       "    <tr>\n",
       "      <th>0</th>\n",
       "      <td>1</td>\n",
       "      <td>Aeugst am Albis</td>\n",
       "      <td>1981</td>\n",
       "      <td>250.442478</td>\n",
       "      <td>14.184755</td>\n",
       "      <td>442.0</td>\n",
       "      <td>108'788</td>\n",
       "    </tr>\n",
       "    <tr>\n",
       "      <th>1</th>\n",
       "      <td>2</td>\n",
       "      <td>Affoltern am Albis</td>\n",
       "      <td>12303</td>\n",
       "      <td>1161.756374</td>\n",
       "      <td>28.700317</td>\n",
       "      <td>6920.0</td>\n",
       "      <td>72'583</td>\n",
       "    </tr>\n",
       "    <tr>\n",
       "      <th>2</th>\n",
       "      <td>3</td>\n",
       "      <td>Bonstetten</td>\n",
       "      <td>5572</td>\n",
       "      <td>749.932705</td>\n",
       "      <td>16.564968</td>\n",
       "      <td>1014.0</td>\n",
       "      <td>91'002</td>\n",
       "    </tr>\n",
       "    <tr>\n",
       "      <th>3</th>\n",
       "      <td>4</td>\n",
       "      <td>Hausen am Albis</td>\n",
       "      <td>3751</td>\n",
       "      <td>275.808824</td>\n",
       "      <td>16.022394</td>\n",
       "      <td>1021.0</td>\n",
       "      <td>91'766</td>\n",
       "    </tr>\n",
       "    <tr>\n",
       "      <th>4</th>\n",
       "      <td>5</td>\n",
       "      <td>Hedingen</td>\n",
       "      <td>3778</td>\n",
       "      <td>578.560490</td>\n",
       "      <td>16.410799</td>\n",
       "      <td>1478.0</td>\n",
       "      <td>94'456</td>\n",
       "    </tr>\n",
       "  </tbody>\n",
       "</table>\n",
       "</div>"
      ],
      "text/plain": [
       "   bfs_number            bfs_name    pop     pop_dens    frg_pct     emp  \\\n",
       "0           1     Aeugst am Albis   1981   250.442478  14.184755   442.0   \n",
       "1           2  Affoltern am Albis  12303  1161.756374  28.700317  6920.0   \n",
       "2           3          Bonstetten   5572   749.932705  16.564968  1014.0   \n",
       "3           4     Hausen am Albis   3751   275.808824  16.022394  1021.0   \n",
       "4           5            Hedingen   3778   578.560490  16.410799  1478.0   \n",
       "\n",
       "  tax_income  \n",
       "0    108'788  \n",
       "1     72'583  \n",
       "2     91'002  \n",
       "3     91'766  \n",
       "4     94'456  "
      ]
     },
     "execution_count": 6,
     "metadata": {},
     "output_type": "execute_result"
    }
   ],
   "source": [
    "import numpy as np\n",
    "# Read and select variables\n",
    "df_orig = pd.read_csv(\"bfs_municipality_and_tax_data.csv\", sep=\",\", encoding='utf-8')\n",
    "\n",
    "# Remove missing values\n",
    "df = df_orig.dropna()\n",
    "df.head(5)\n",
    "\n",
    "# Remove duplicates\n",
    "df = df.drop_duplicates()\n",
    "\n",
    "# Remove some 'extreme' values\n",
    "z_scores = np.abs((df['pop'] - df['pop'].mean()) / df['pop'].std())\n",
    "\n",
    "# Definieren eines Schwellenwerts für den Z-Score\n",
    "threshold = 3\n",
    "\n",
    "# Filtern der Datenpunkte, die den Schwellenwert überschreiten\n",
    "filtered_df = df[z_scores <= threshold]\n",
    "\n",
    "\n",
    "print(df.shape)\n",
    "df.head(5)"
   ]
  },
  {
   "cell_type": "code",
   "execution_count": 7,
   "metadata": {},
   "outputs": [
    {
     "data": {
      "text/plain": [
       "2059"
      ]
     },
     "execution_count": 7,
     "metadata": {},
     "output_type": "execute_result"
    }
   ],
   "source": [
    "len(df)"
   ]
  },
  {
   "cell_type": "code",
   "execution_count": 8,
   "metadata": {},
   "outputs": [
    {
     "data": {
      "text/plain": [
       "Index(['bfs_number', 'bfs_name', 'pop', 'pop_dens', 'frg_pct', 'emp',\n",
       "       'tax_income'],\n",
       "      dtype='object')"
      ]
     },
     "execution_count": 8,
     "metadata": {},
     "output_type": "execute_result"
    }
   ],
   "source": [
    "df.columns"
   ]
  },
  {
   "cell_type": "markdown",
   "metadata": {},
   "source": [
    "# Transformieren der Daten"
   ]
  },
  {
   "cell_type": "code",
   "execution_count": 9,
   "metadata": {},
   "outputs": [
    {
     "name": "stdout",
     "output_type": "stream",
     "text": [
      "   bfs_number            bfs_name    pop     pop_dens    frg_pct     emp  \\\n",
      "0           1     Aeugst am Albis   1981   250.442478  14.184755   442.0   \n",
      "1           2  Affoltern am Albis  12303  1161.756374  28.700317  6920.0   \n",
      "2           3          Bonstetten   5572   749.932705  16.564968  1014.0   \n",
      "3           4     Hausen am Albis   3751   275.808824  16.022394  1021.0   \n",
      "4           5            Hedingen   3778   578.560490  16.410799  1478.0   \n",
      "\n",
      "   tax_income  \n",
      "0      108788  \n",
      "1       72583  \n",
      "2       91002  \n",
      "3       91766  \n",
      "4       94456  \n"
     ]
    }
   ],
   "source": [
    "# Import der notwendigen Bibliothek\n",
    "import pandas as pd\n",
    "\n",
    "# Pfad zur CSV-Datei\n",
    "data_path = 'bfs_municipality_and_tax_data.csv'\n",
    "\n",
    "# Laden der Daten\n",
    "data_frame = pd.read_csv(data_path)\n",
    "\n",
    "# Bereinigen und Konvertieren der 'tax_income' Spalte\n",
    "data_frame['tax_income'] = data_frame['tax_income'].replace(\"'\", \"\", regex=True).astype(int)\n",
    "\n",
    "# Erste Zeilen der Daten anzeigen, um die Umwandlung zu überprüfen\n",
    "print(data_frame.head())\n"
   ]
  },
  {
   "cell_type": "code",
   "execution_count": 10,
   "metadata": {},
   "outputs": [],
   "source": [
    "# Spalten für die Merkmale auswählen, 'tax_income' wird nicht in X_train inkludiert\n",
    "features = ['pop', 'pop_dens']\n",
    "target = 'tax_income'\n",
    "\n",
    "# Aufteilung in Trainings- und Testdaten\n",
    "X_train, X_test, y_train, y_test = train_test_split(data_frame[features], data_frame[target], test_size=0.20, random_state=42)\n"
   ]
  },
  {
   "cell_type": "code",
   "execution_count": 11,
   "metadata": {},
   "outputs": [
    {
     "name": "stdout",
     "output_type": "stream",
     "text": [
      "--LinearRegression()--\n",
      "[-5.11184266e+08 -9.97282727e+08 -8.18170502e+08 -5.96178621e+08\n",
      " -7.58082729e+08]\n",
      "-736179768.951327\n"
     ]
    }
   ],
   "source": [
    "# Erstellen und Trainieren des linearen Modells\n",
    "linear_model = LinearRegression()\n",
    "\n",
    "# Kreuzvalidierung des Modells\n",
    "cv_scores = cross_val_score(linear_model, X_train, y_train, cv=5, scoring='neg_mean_squared_error')\n",
    "\n",
    "# Ausgabe des Modells und der Validierungsergebnisse\n",
    "print(f'--{linear_model}--')\n",
    "print(cv_scores)\n",
    "print(np.mean(cv_scores))\n"
   ]
  },
  {
   "cell_type": "code",
   "execution_count": 12,
   "metadata": {},
   "outputs": [
    {
     "name": "stdout",
     "output_type": "stream",
     "text": [
      "--Pipeline(steps=[('polynomial_features', PolynomialFeatures()),\n",
      "                ('linear_regression', LinearRegression())])--\n",
      "[-21541.25033262 -30915.50924036 -28060.93191501 -36922.53912147\n",
      " -26578.83220757]\n",
      "-28803.812563406223\n"
     ]
    }
   ],
   "source": [
    "# Pipeline für das polynomiale Modell erstellen\n",
    "polynomial_model = Pipeline([\n",
    "    (\"polynomial_features\", PolynomialFeatures(degree=2)),\n",
    "    (\"linear_regression\", LinearRegression()),\n",
    "])\n",
    "\n",
    "# Kreuzvalidierung des polynomialen Modells durchführen\n",
    "poly_scores = cross_val_score(polynomial_model, X_train, y_train, scoring=\"neg_root_mean_squared_error\", cv=5)\n",
    "\n",
    "# Ergebnisse der Kreuzvalidierung ausgeben\n",
    "print(f'--{polynomial_model}--')\n",
    "print(poly_scores)\n",
    "print(np.mean(poly_scores))\n"
   ]
  },
  {
   "cell_type": "code",
   "execution_count": 13,
   "metadata": {},
   "outputs": [
    {
     "name": "stdout",
     "output_type": "stream",
     "text": [
      "--RandomForestRegressor(random_state=42)--\n",
      "[-24694.8440253  -28366.49948419 -29378.19450515 -25096.26590966\n",
      " -27832.84598362]\n",
      "-27073.729981585017\n"
     ]
    }
   ],
   "source": [
    "# Erstellen eines RandomForest-Regressionsmodells\n",
    "randomforest_model = RandomForestRegressor(random_state=42)\n",
    "\n",
    "# Kreuzvalidierung des RandomForest-Modells durchführen\n",
    "rf_scores = cross_val_score(randomforest_model, X_train, y_train, scoring=\"neg_root_mean_squared_error\", cv=5)\n",
    "\n",
    "# Ergebnisse der Kreuzvalidierung ausgeben\n",
    "print(f'--{randomforest_model}--')\n",
    "print(rf_scores)\n",
    "print(np.mean(rf_scores))\n"
   ]
  },
  {
   "cell_type": "markdown",
   "metadata": {},
   "source": [
    "# GridSearch CV"
   ]
  },
  {
   "cell_type": "code",
   "execution_count": 14,
   "metadata": {},
   "outputs": [
    {
     "name": "stdout",
     "output_type": "stream",
     "text": [
      "Verfügbare Parameter des linearen Modells: {'copy_X': True, 'fit_intercept': True, 'n_jobs': None, 'positive': False}\n"
     ]
    }
   ],
   "source": [
    "# Abrufen der möglichen Konfigurationen des linearen Modells\n",
    "model_parameters = linear_model.get_params()\n",
    "print(\"Verfügbare Parameter des linearen Modells:\", model_parameters)\n"
   ]
  },
  {
   "cell_type": "code",
   "execution_count": 15,
   "metadata": {},
   "outputs": [
    {
     "name": "stdout",
     "output_type": "stream",
     "text": [
      "Verfügbare Parameter des polynomialen Modells: {'memory': None, 'steps': [('polynomial_features', PolynomialFeatures()), ('linear_regression', LinearRegression())], 'verbose': False, 'polynomial_features': PolynomialFeatures(), 'linear_regression': LinearRegression(), 'polynomial_features__degree': 2, 'polynomial_features__include_bias': True, 'polynomial_features__interaction_only': False, 'polynomial_features__order': 'C', 'linear_regression__copy_X': True, 'linear_regression__fit_intercept': True, 'linear_regression__n_jobs': None, 'linear_regression__positive': False}\n"
     ]
    }
   ],
   "source": [
    "# Abrufen der möglichen Konfigurationen des polynomialen Modells\n",
    "poly_model_parameters = polynomial_model.get_params()\n",
    "print(\"Verfügbare Parameter des polynomialen Modells:\", poly_model_parameters)\n"
   ]
  },
  {
   "cell_type": "code",
   "execution_count": 16,
   "metadata": {},
   "outputs": [
    {
     "name": "stdout",
     "output_type": "stream",
     "text": [
      "Fitting 5 folds for each of 4 candidates, totalling 20 fits\n",
      "[CV] END polynomial_features__degree=2, polynomial_features__include_bias=True; total time=   0.0s\n",
      "[CV] END polynomial_features__degree=2, polynomial_features__include_bias=True; total time=   0.0s\n",
      "[CV] END polynomial_features__degree=2, polynomial_features__include_bias=True; total time=   0.0s\n",
      "[CV] END polynomial_features__degree=2, polynomial_features__include_bias=True; total time=   0.0s\n",
      "[CV] END polynomial_features__degree=2, polynomial_features__include_bias=True; total time=   0.0s\n",
      "[CV] END polynomial_features__degree=2, polynomial_features__include_bias=False; total time=   0.0s\n",
      "[CV] END polynomial_features__degree=2, polynomial_features__include_bias=False; total time=   0.0s\n",
      "[CV] END polynomial_features__degree=2, polynomial_features__include_bias=False; total time=   0.0s\n",
      "[CV] END polynomial_features__degree=2, polynomial_features__include_bias=False; total time=   0.0s\n",
      "[CV] END polynomial_features__degree=2, polynomial_features__include_bias=False; total time=   0.0s\n",
      "[CV] END polynomial_features__degree=4, polynomial_features__include_bias=True; total time=   0.0s\n",
      "[CV] END polynomial_features__degree=4, polynomial_features__include_bias=True; total time=   0.0s\n",
      "[CV] END polynomial_features__degree=4, polynomial_features__include_bias=True; total time=   0.0s\n",
      "[CV] END polynomial_features__degree=4, polynomial_features__include_bias=True; total time=   0.0s\n",
      "[CV] END polynomial_features__degree=4, polynomial_features__include_bias=True; total time=   0.0s\n",
      "[CV] END polynomial_features__degree=4, polynomial_features__include_bias=False; total time=   0.0s\n",
      "[CV] END polynomial_features__degree=4, polynomial_features__include_bias=False; total time=   0.0s\n",
      "[CV] END polynomial_features__degree=4, polynomial_features__include_bias=False; total time=   0.0s\n",
      "[CV] END polynomial_features__degree=4, polynomial_features__include_bias=False; total time=   0.0s\n",
      "[CV] END polynomial_features__degree=4, polynomial_features__include_bias=False; total time=   0.0s\n",
      "Bestes Modell: Pipeline(steps=[('polynomial_features', PolynomialFeatures(include_bias=False)),\n",
      "                ('linear_regression', LinearRegression())])\n",
      "Beste Parameter: {'polynomial_features__degree': 2, 'polynomial_features__include_bias': False}\n",
      "Beste Kreuzvalidierungsergebnis: -28803.812560284936\n"
     ]
    }
   ],
   "source": [
    "# Import der notwendigen Bibliothek für die Modelloptimierung\n",
    "from sklearn.model_selection import GridSearchCV\n",
    "\n",
    "# Konfigurationsgitter für das polynomiale Modell\n",
    "param_grid = {\n",
    "    'polynomial_features__degree': [2, 4],  # Mögliche Grade des Polynoms\n",
    "    'polynomial_features__include_bias': [True, False],  # Entscheidung, ob ein Bias-Term einbezogen werden soll\n",
    "}\n",
    "\n",
    "# Durchführung der Grid-Suche mit Kreuzvalidierung\n",
    "grid_search_pl = GridSearchCV(polynomial_model, param_grid, cv=5, scoring='neg_root_mean_squared_error', verbose=2)\n",
    "grid_search_pl.fit(X_train, y_train)\n",
    "\n",
    "# Ausgabe der besten Modellkonfiguration und der dazugehörigen Ergebnisse\n",
    "print(\"Bestes Modell:\", grid_search_pl.best_estimator_)\n",
    "print(\"Beste Parameter:\", grid_search_pl.best_params_)\n",
    "print(\"Beste Kreuzvalidierungsergebnis:\", grid_search_pl.best_score_)\n"
   ]
  },
  {
   "cell_type": "code",
   "execution_count": 17,
   "metadata": {},
   "outputs": [
    {
     "name": "stdout",
     "output_type": "stream",
     "text": [
      "Fitting 5 folds for each of 6 candidates, totalling 30 fits\n",
      "[CV] END .......................max_depth=90, max_features=6; total time=   0.3s\n",
      "[CV] END .......................max_depth=90, max_features=6; total time=   0.3s\n",
      "[CV] END .......................max_depth=90, max_features=6; total time=   0.3s\n",
      "[CV] END .......................max_depth=90, max_features=6; total time=   0.3s\n",
      "[CV] END .......................max_depth=90, max_features=6; total time=   0.3s\n",
      "[CV] END .......................max_depth=90, max_features=9; total time=   0.3s\n",
      "[CV] END .......................max_depth=90, max_features=9; total time=   0.3s\n",
      "[CV] END .......................max_depth=90, max_features=9; total time=   0.3s\n",
      "[CV] END .......................max_depth=90, max_features=9; total time=   0.3s\n",
      "[CV] END .......................max_depth=90, max_features=9; total time=   0.3s\n",
      "[CV] END ......................max_depth=100, max_features=6; total time=   0.3s\n",
      "[CV] END ......................max_depth=100, max_features=6; total time=   0.3s\n",
      "[CV] END ......................max_depth=100, max_features=6; total time=   0.3s\n",
      "[CV] END ......................max_depth=100, max_features=6; total time=   0.2s\n",
      "[CV] END ......................max_depth=100, max_features=6; total time=   0.3s\n",
      "[CV] END ......................max_depth=100, max_features=9; total time=   0.3s\n",
      "[CV] END ......................max_depth=100, max_features=9; total time=   0.3s\n",
      "[CV] END ......................max_depth=100, max_features=9; total time=   0.2s\n",
      "[CV] END ......................max_depth=100, max_features=9; total time=   0.2s\n",
      "[CV] END ......................max_depth=100, max_features=9; total time=   0.2s\n",
      "[CV] END ......................max_depth=110, max_features=6; total time=   0.2s\n",
      "[CV] END ......................max_depth=110, max_features=6; total time=   0.2s\n",
      "[CV] END ......................max_depth=110, max_features=6; total time=   0.3s\n",
      "[CV] END ......................max_depth=110, max_features=6; total time=   0.3s\n",
      "[CV] END ......................max_depth=110, max_features=6; total time=   0.3s\n",
      "[CV] END ......................max_depth=110, max_features=9; total time=   0.3s\n",
      "[CV] END ......................max_depth=110, max_features=9; total time=   0.3s\n",
      "[CV] END ......................max_depth=110, max_features=9; total time=   0.3s\n",
      "[CV] END ......................max_depth=110, max_features=9; total time=   0.2s\n",
      "[CV] END ......................max_depth=110, max_features=9; total time=   0.3s\n",
      "Bestes Modell: RandomForestRegressor(max_depth=90, max_features=6, random_state=42)\n",
      "Beste Parameter: {'max_depth': 90, 'max_features': 6}\n",
      "Beste Kreuzvalidierungsergebnis: -27073.729981585017\n"
     ]
    }
   ],
   "source": [
    "# Konfigurationsgitter für das RandomForest-Modell definieren\n",
    "param_grid_rf = {\n",
    "    'max_depth': [90, 100, 110],  # Mögliche maximale Tiefen\n",
    "    'max_features': [6, 9]        # Mögliche Anzahl an Features\n",
    "}\n",
    "\n",
    "# Grid-Suche für das RandomForest-Modell mit spezifischer Verbose-Einstellung für den Fortschritt\n",
    "grid_search_rf = GridSearchCV(randomforest_model, param_grid_rf, cv=5, scoring='neg_root_mean_squared_error', verbose=2)\n",
    "grid_search_rf.fit(X_train, y_train)\n",
    "\n",
    "# Ergebnisse der Grid-Suche ausgeben\n",
    "print(\"Bestes Modell:\", grid_search_rf.best_estimator_)\n",
    "print(\"Beste Parameter:\", grid_search_rf.best_params_)\n",
    "print(\"Beste Kreuzvalidierungsergebnis:\", grid_search_rf.best_score_)\n"
   ]
  },
  {
   "cell_type": "markdown",
   "metadata": {},
   "source": [
    "# Datenanalyse"
   ]
  },
  {
   "cell_type": "code",
   "execution_count": 19,
   "metadata": {},
   "outputs": [
    {
     "name": "stdout",
     "output_type": "stream",
     "text": [
      "       pop    pop_dens      abs_error\n",
      "1797  2118  613.913043  359738.274123\n",
      "2058  2387  616.795866  347598.123991\n",
      "597   5350  305.714286  230989.434725\n",
      "2098  2577  583.031674  184994.206152\n",
      "699    398  222.346369  183496.358237\n"
     ]
    },
    {
     "data": {
      "image/png": "[encoded data removed]",
      "text/plain": [
       "<Figure size 1000x500 with 1 Axes>"
      ]
     },
     "metadata": {},
     "output_type": "display_data"
    }
   ],
   "source": [
    "from sklearn.pipeline import Pipeline\n",
    "from sklearn.preprocessing import PolynomialFeatures\n",
    "from sklearn.linear_model import LinearRegression\n",
    "from sklearn.model_selection import train_test_split\n",
    "import pandas as pd\n",
    "import numpy as np\n",
    "import matplotlib.pyplot as plt\n",
    "\n",
    "# Annahme: Sie haben bereits die Daten geladen und X_train, y_train definiert\n",
    "\n",
    "# Polynomial Model definieren\n",
    "polynomial_model = Pipeline([\n",
    "    (\"polynomial_features\", PolynomialFeatures(degree=2)),\n",
    "    (\"linear_regression\", LinearRegression())\n",
    "])\n",
    "\n",
    "# Modell mit Trainingsdaten trainieren\n",
    "polynomial_model.fit(X_train, y_train)\n",
    "\n",
    "# Vorhersagen mit dem Modell machen\n",
    "y_pred = polynomial_model.predict(X_train)\n",
    "\n",
    "# Fehler berechnen\n",
    "errors = y_train - y_pred\n",
    "abs_errors = np.abs(errors)\n",
    "\n",
    "# Fehlerdaten zu Trainingsdaten hinzufügen\n",
    "df_train = pd.DataFrame(X_train, columns=['pop', 'pop_dens'])  # Achten Sie darauf, die korrekten Spaltennamen zu verwenden\n",
    "df_train['abs_error'] = abs_errors\n",
    "\n",
    "# Daten nach dem Fehler sortieren und anzeigen\n",
    "df_train_sorted = df_train.sort_values(by='abs_error', ascending=False)\n",
    "print(df_train_sorted.head())\n",
    "\n",
    "# Koeffizienten extrahieren und darstellen, wenn das Modell eine Pipeline ist und die lineare Regression enthält\n",
    "if 'linear_regression' in polynomial_model.named_steps:\n",
    "    coefficients = polynomial_model.named_steps['linear_regression'].coef_\n",
    "    feature_names = polynomial_model.named_steps['polynomial_features'].get_feature_names_out()\n",
    "\n",
    "    df_coeffs = pd.DataFrame({\n",
    "        'Feature': feature_names, \n",
    "        'Coefficient': coefficients,\n",
    "        'Abs_Coefficient': np.abs(coefficients)\n",
    "    })\n",
    "    df_coeffs.sort_values('Abs_Coefficient', ascending=False, inplace=True)\n",
    "\n",
    "    # Visualisierung der Koeffizienten\n",
    "    df_coeffs.plot(kind='bar', x='Feature', y='Abs_Coefficient', color='blue', figsize=(10, 5))\n",
    "    plt.title('Feature Coefficients')\n",
    "    plt.show()\n"
   ]
  },
  {
   "cell_type": "code",
   "execution_count": 20,
   "metadata": {},
   "outputs": [
    {
     "data": {
      "text/plain": [
       "Index(['pop', 'pop_dens'], dtype='object')"
      ]
     },
     "execution_count": 20,
     "metadata": {},
     "output_type": "execute_result"
    }
   ],
   "source": [
    "X_train.columns"
   ]
  },
  {
   "cell_type": "code",
   "execution_count": 21,
   "metadata": {},
   "outputs": [
    {
     "name": "stdout",
     "output_type": "stream",
     "text": [
      "Index(['bfs_number', 'bfs_name', 'pop', 'pop_dens', 'frg_pct', 'emp',\n",
      "       'tax_income'],\n",
      "      dtype='object')\n"
     ]
    }
   ],
   "source": [
    "print(df.columns)\n"
   ]
  },
  {
   "cell_type": "code",
   "execution_count": 23,
   "metadata": {},
   "outputs": [
    {
     "name": "stdout",
     "output_type": "stream",
     "text": [
      "Datensatzgröße: (1724, 5)\n"
     ]
    },
    {
     "data": {
      "text/html": [
       "<div>\n",
       "<style scoped>\n",
       "    .dataframe tbody tr th:only-of-type {\n",
       "        vertical-align: middle;\n",
       "    }\n",
       "\n",
       "    .dataframe tbody tr th {\n",
       "        vertical-align: top;\n",
       "    }\n",
       "\n",
       "    .dataframe thead th {\n",
       "        text-align: right;\n",
       "    }\n",
       "</style>\n",
       "<table border=\"1\" class=\"dataframe\">\n",
       "  <thead>\n",
       "    <tr style=\"text-align: right;\">\n",
       "      <th></th>\n",
       "      <th>pop</th>\n",
       "      <th>pop_dens</th>\n",
       "      <th>error</th>\n",
       "      <th>price</th>\n",
       "      <th>predicted_price</th>\n",
       "    </tr>\n",
       "  </thead>\n",
       "  <tbody>\n",
       "    <tr>\n",
       "      <th>867</th>\n",
       "      <td>5140</td>\n",
       "      <td>368.723099</td>\n",
       "      <td>1954.699260</td>\n",
       "      <td>76335</td>\n",
       "      <td>74380.300740</td>\n",
       "    </tr>\n",
       "    <tr>\n",
       "      <th>1606</th>\n",
       "      <td>434</td>\n",
       "      <td>19.727273</td>\n",
       "      <td>9613.355640</td>\n",
       "      <td>60849</td>\n",
       "      <td>70462.355640</td>\n",
       "    </tr>\n",
       "    <tr>\n",
       "      <th>1111</th>\n",
       "      <td>1120</td>\n",
       "      <td>24.190065</td>\n",
       "      <td>18203.403546</td>\n",
       "      <td>51836</td>\n",
       "      <td>70039.403546</td>\n",
       "    </tr>\n",
       "    <tr>\n",
       "      <th>1258</th>\n",
       "      <td>1469</td>\n",
       "      <td>327.171492</td>\n",
       "      <td>9547.985444</td>\n",
       "      <td>85695</td>\n",
       "      <td>76147.014556</td>\n",
       "    </tr>\n",
       "    <tr>\n",
       "      <th>1319</th>\n",
       "      <td>1042</td>\n",
       "      <td>109.568875</td>\n",
       "      <td>5081.069339</td>\n",
       "      <td>66865</td>\n",
       "      <td>71946.069339</td>\n",
       "    </tr>\n",
       "  </tbody>\n",
       "</table>\n",
       "</div>"
      ],
      "text/plain": [
       "       pop    pop_dens         error  price  predicted_price\n",
       "867   5140  368.723099   1954.699260  76335     74380.300740\n",
       "1606   434   19.727273   9613.355640  60849     70462.355640\n",
       "1111  1120   24.190065  18203.403546  51836     70039.403546\n",
       "1258  1469  327.171492   9547.985444  85695     76147.014556\n",
       "1319  1042  109.568875   5081.069339  66865     71946.069339"
      ]
     },
     "execution_count": 23,
     "metadata": {},
     "output_type": "execute_result"
    }
   ],
   "source": [
    "from sklearn.model_selection import cross_val_predict\n",
    "from sklearn.pipeline import Pipeline\n",
    "from sklearn.preprocessing import PolynomialFeatures\n",
    "from sklearn.linear_model import LinearRegression\n",
    "import pandas as pd\n",
    "import numpy as np\n",
    "\n",
    "# Definieren des polynomialen Modells\n",
    "polynomial_model = Pipeline([\n",
    "    (\"polynomial_features\", PolynomialFeatures(degree=2)),\n",
    "    (\"linear_regression\", LinearRegression())\n",
    "])\n",
    "\n",
    "# Modell trainieren\n",
    "polynomial_model.fit(X_train, y_train)\n",
    "\n",
    "# Holen aller Vorhersagen für den Trainingssatz mittels Kreuzvalidierung\n",
    "y_train_predict = cross_val_predict(polynomial_model, X_train, y_train, cv=5)\n",
    "\n",
    "# DataFrame zur Analyse erstellen\n",
    "df_new = pd.DataFrame(X_train, columns=X_train.columns, copy=True)\n",
    "df_new['error'] = np.abs(y_train_predict - y_train)\n",
    "df_new['price'] = y_train\n",
    "df_new['predicted_price'] = y_train_predict\n",
    "\n",
    "# Ergebnisse anzeigen\n",
    "print(\"Datensatzgröße:\", df_new.shape)\n",
    "df_new.head()\n"
   ]
  },
  {
   "cell_type": "code",
   "execution_count": 24,
   "metadata": {},
   "outputs": [
    {
     "name": "stdout",
     "output_type": "stream",
     "text": [
      "Statistische Zusammenfassung der Fehler:\n",
      "count      1724.000000\n",
      "mean      14939.597365\n",
      "std       25152.444228\n",
      "min          32.041986\n",
      "25%        4555.686264\n",
      "50%        9775.227734\n",
      "75%       16571.647858\n",
      "max      398890.610833\n",
      "Name: error, dtype: float64\n"
     ]
    },
    {
     "data": {
      "image/png": "[encoded data removed]",
      "text/plain": [
       "<Figure size 1000x600 with 1 Axes>"
      ]
     },
     "metadata": {},
     "output_type": "display_data"
    },
    {
     "data": {
      "image/png": "[encoded data removed]",
      "text/plain": [
       "<Figure size 1000x600 with 1 Axes>"
      ]
     },
     "metadata": {},
     "output_type": "display_data"
    }
   ],
   "source": [
    "import matplotlib.pyplot as plt\n",
    "\n",
    "# Statistische Zusammenfassung der Fehler\n",
    "print(\"Statistische Zusammenfassung der Fehler:\")\n",
    "print(df_new['error'].describe())\n",
    "\n",
    "# Histogramm der Fehler erstellen\n",
    "plt.figure(figsize=(10, 6))\n",
    "plt.hist(df_new['error'], bins=50, color='blue', alpha=0.7)\n",
    "plt.title('Histogramm der Fehlerwerte')\n",
    "plt.xlabel('Fehler')\n",
    "plt.ylabel('Häufigkeit')\n",
    "plt.grid(True)  # Gitter hinzufügen für bessere Lesbarkeit\n",
    "plt.show()\n",
    "\n",
    "# Boxplot der Fehler erstellen\n",
    "plt.figure(figsize=(10, 6))\n",
    "plt.boxplot(df_new['error'], vert=False)\n",
    "plt.title('Boxplot der Fehlerwerte')\n",
    "plt.xlabel('Fehler')\n",
    "plt.grid(True)  # Gitter hinzufügen für bessere Lesbarkeit\n",
    "plt.show()\n"
   ]
  },
  {
   "cell_type": "code",
   "execution_count": 25,
   "metadata": {},
   "outputs": [],
   "source": [
    "# Filtern der Daten basierend auf einem Fehler größer als 25,000\n",
    "filtered_data = df_new[df_new['error'] > 25000]\n",
    "\n",
    "# Speichern der gefilterten Daten in einer CSV-Datei\n",
    "filtered_data.to_csv('data_with_large_errors.csv', sep=\",\", encoding='utf-8', index=False)\n"
   ]
  },
  {
   "cell_type": "code",
   "execution_count": 26,
   "metadata": {},
   "outputs": [
    {
     "data": {
      "image/png": "[encoded data removed]",
      "text/plain": [
       "<Figure size 800x400 with 1 Axes>"
      ]
     },
     "metadata": {},
     "output_type": "display_data"
    }
   ],
   "source": [
    "from sklearn.model_selection import cross_val_predict\n",
    "from sklearn.pipeline import Pipeline\n",
    "from sklearn.preprocessing import PolynomialFeatures\n",
    "from sklearn.linear_model import LinearRegression\n",
    "import matplotlib.pyplot as plt\n",
    "import numpy as np\n",
    "\n",
    "# Definieren des polynomialen Modells\n",
    "polynomial_model = Pipeline([\n",
    "    (\"polynomial_features\", PolynomialFeatures(degree=2)),\n",
    "    (\"linear_regression\", LinearRegression())\n",
    "])\n",
    "\n",
    "# Holen aller Vorhersagen für den Trainingssatz mittels Cross-Validation\n",
    "y_train_predict = cross_val_predict(polynomial_model, X_train, y_train, cv=5)\n",
    "\n",
    "# Berechnen der Residuen\n",
    "y_residuals = y_train - y_train_predict\n",
    "\n",
    "# Histogramm der Residuen erstellen\n",
    "plt.figure(figsize=(8, 4))\n",
    "n, bins, patches = plt.hist(y_residuals, bins=20, color='blue', alpha=0.5)\n",
    "\n",
    "# Beschriftungen setzen\n",
    "plt.xlabel('Residuen', fontsize=10, labelpad=10)\n",
    "plt.ylabel('Häufigkeit', fontsize=10, labelpad=10)\n",
    "plt.title('Histogramm der Modellresiduen', fontsize=12, pad=10)\n",
    "plt.grid(True)  # Füge ein Gitter hinzu, um das Ablesen der Werte zu erleichtern\n",
    "plt.show()\n"
   ]
  },
  {
   "cell_type": "markdown",
   "metadata": {},
   "source": [
    "# Modell speichern"
   ]
  },
  {
   "cell_type": "code",
   "execution_count": 28,
   "metadata": {},
   "outputs": [
    {
     "data": {
      "text/html": [
       "<style>#sk-container-id-1 {color: black;}#sk-container-id-1 pre{padding: 0;}#sk-container-id-1 div.sk-toggleable {background-color: white;}#sk-container-id-1 label.sk-toggleable__label {cursor: pointer;display: block;width: 100%;margin-bottom: 0;padding: 0.3em;box-sizing: border-box;text-align: center;}#sk-container-id-1 label.sk-toggleable__label-arrow:before {content: \"▸\";float: left;margin-right: 0.25em;color: #696969;}#sk-container-id-1 label.sk-toggleable__label-arrow:hover:before {color: black;}#sk-container-id-1 div.sk-estimator:hover label.sk-toggleable__label-arrow:before {color: black;}#sk-container-id-1 div.sk-toggleable__content {max-height: 0;max-width: 0;overflow: hidden;text-align: left;background-color: #f0f8ff;}#sk-container-id-1 div.sk-toggleable__content pre {margin: 0.2em;color: black;border-radius: 0.25em;background-color: #f0f8ff;}#sk-container-id-1 input.sk-toggleable__control:checked~div.sk-toggleable__content {max-height: 200px;max-width: 100%;overflow: auto;}#sk-container-id-1 input.sk-toggleable__control:checked~label.sk-toggleable__label-arrow:before {content: \"▾\";}#sk-container-id-1 div.sk-estimator input.sk-toggleable__control:checked~label.sk-toggleable__label {background-color: #d4ebff;}#sk-container-id-1 div.sk-label input.sk-toggleable__control:checked~label.sk-toggleable__label {background-color: #d4ebff;}#sk-container-id-1 input.sk-hidden--visually {border: 0;clip: rect(1px 1px 1px 1px);clip: rect(1px, 1px, 1px, 1px);height: 1px;margin: -1px;overflow: hidden;padding: 0;position: absolute;width: 1px;}#sk-container-id-1 div.sk-estimator {font-family: monospace;background-color: #f0f8ff;border: 1px dotted black;border-radius: 0.25em;box-sizing: border-box;margin-bottom: 0.5em;}#sk-container-id-1 div.sk-estimator:hover {background-color: #d4ebff;}#sk-container-id-1 div.sk-parallel-item::after {content: \"\";width: 100%;border-bottom: 1px solid gray;flex-grow: 1;}#sk-container-id-1 div.sk-label:hover label.sk-toggleable__label {background-color: #d4ebff;}#sk-container-id-1 div.sk-serial::before {content: \"\";position: absolute;border-left: 1px solid gray;box-sizing: border-box;top: 0;bottom: 0;left: 50%;z-index: 0;}#sk-container-id-1 div.sk-serial {display: flex;flex-direction: column;align-items: center;background-color: white;padding-right: 0.2em;padding-left: 0.2em;position: relative;}#sk-container-id-1 div.sk-item {position: relative;z-index: 1;}#sk-container-id-1 div.sk-parallel {display: flex;align-items: stretch;justify-content: center;background-color: white;position: relative;}#sk-container-id-1 div.sk-item::before, #sk-container-id-1 div.sk-parallel-item::before {content: \"\";position: absolute;border-left: 1px solid gray;box-sizing: border-box;top: 0;bottom: 0;left: 50%;z-index: -1;}#sk-container-id-1 div.sk-parallel-item {display: flex;flex-direction: column;z-index: 1;position: relative;background-color: white;}#sk-container-id-1 div.sk-parallel-item:first-child::after {align-self: flex-end;width: 50%;}#sk-container-id-1 div.sk-parallel-item:last-child::after {align-self: flex-start;width: 50%;}#sk-container-id-1 div.sk-parallel-item:only-child::after {width: 0;}#sk-container-id-1 div.sk-dashed-wrapped {border: 1px dashed gray;margin: 0 0.4em 0.5em 0.4em;box-sizing: border-box;padding-bottom: 0.4em;background-color: white;}#sk-container-id-1 div.sk-label label {font-family: monospace;font-weight: bold;display: inline-block;line-height: 1.2em;}#sk-container-id-1 div.sk-label-container {text-align: center;}#sk-container-id-1 div.sk-container {/* jupyter's `normalize.less` sets `[hidden] { display: none; }` but bootstrap.min.css set `[hidden] { display: none !important; }` so we also need the `!important` here to be able to override the default hidden behavior on the sphinx rendered scikit-learn.org. See: https://github.com/scikit-learn/scikit-learn/issues/21755 */display: inline-block !important;position: relative;}#sk-container-id-1 div.sk-text-repr-fallback {display: none;}</style><div id=\"sk-container-id-1\" class=\"sk-top-container\"><div class=\"sk-text-repr-fallback\"><pre>Pipeline(steps=[(&#x27;polynomial_features&#x27;, PolynomialFeatures()),\n",
       "                (&#x27;linear_regression&#x27;, LinearRegression())])</pre><b>In a Jupyter environment, please rerun this cell to show the HTML representation or trust the notebook. <br />On GitHub, the HTML representation is unable to render, please try loading this page with nbviewer.org.</b></div><div class=\"sk-container\" hidden><div class=\"sk-item sk-dashed-wrapped\"><div class=\"sk-label-container\"><div class=\"sk-label sk-toggleable\"><input class=\"sk-toggleable__control sk-hidden--visually\" id=\"sk-estimator-id-1\" type=\"checkbox\" ><label for=\"sk-estimator-id-1\" class=\"sk-toggleable__label sk-toggleable__label-arrow\">Pipeline</label><div class=\"sk-toggleable__content\"><pre>Pipeline(steps=[(&#x27;polynomial_features&#x27;, PolynomialFeatures()),\n",
       "                (&#x27;linear_regression&#x27;, LinearRegression())])</pre></div></div></div><div class=\"sk-serial\"><div class=\"sk-item\"><div class=\"sk-estimator sk-toggleable\"><input class=\"sk-toggleable__control sk-hidden--visually\" id=\"sk-estimator-id-2\" type=\"checkbox\" ><label for=\"sk-estimator-id-2\" class=\"sk-toggleable__label sk-toggleable__label-arrow\">PolynomialFeatures</label><div class=\"sk-toggleable__content\"><pre>PolynomialFeatures()</pre></div></div></div><div class=\"sk-item\"><div class=\"sk-estimator sk-toggleable\"><input class=\"sk-toggleable__control sk-hidden--visually\" id=\"sk-estimator-id-3\" type=\"checkbox\" ><label for=\"sk-estimator-id-3\" class=\"sk-toggleable__label sk-toggleable__label-arrow\">LinearRegression</label><div class=\"sk-toggleable__content\"><pre>LinearRegression()</pre></div></div></div></div></div></div></div>"
      ],
      "text/plain": [
       "Pipeline(steps=[('polynomial_features', PolynomialFeatures()),\n",
       "                ('linear_regression', LinearRegression())])"
      ]
     },
     "execution_count": 28,
     "metadata": {},
     "output_type": "execute_result"
    }
   ],
   "source": [
    "import pandas as pd\n",
    "from sklearn.model_selection import train_test_split\n",
    "from sklearn.pipeline import Pipeline\n",
    "from sklearn.preprocessing import PolynomialFeatures\n",
    "from sklearn.linear_model import LinearRegression\n",
    "\n",
    "# Zuerst sicherstellen, dass alle numerischen Daten korrekt formatiert sind\n",
    "df['tax_income'] = df['tax_income'].replace(\"'\", \"\", regex=True).astype(int)\n",
    "\n",
    "# Daten in Trainings- und Testsets aufteilen\n",
    "X_train, X_test, y_train, y_test = train_test_split(\n",
    "    df[['pop', 'pop_dens']],  # Feature-Spalten\n",
    "    df['tax_income'],         # Zielvariable, jetzt ohne Apostrophe\n",
    "    test_size=0.20,           # Anteil der Testdaten\n",
    "    random_state=42           # Zufallszahlengenerator für reproduzierbare Ergebnisse\n",
    ")\n",
    "\n",
    "# Definieren des polynomialen Modells\n",
    "polynomial_model = Pipeline([\n",
    "    (\"polynomial_features\", PolynomialFeatures(degree=2)),\n",
    "    (\"linear_regression\", LinearRegression())\n",
    "])\n",
    "\n",
    "# Trainieren des polynomialen Modells mit den Trainingsdaten\n",
    "polynomial_model.fit(X_train, y_train)\n"
   ]
  },
  {
   "cell_type": "code",
   "execution_count": 29,
   "metadata": {},
   "outputs": [],
   "source": [
    "import pickle\n",
    "\n",
    "# Speichern des polynomialen Modells in einer Datei\n",
    "model_filename = \"polynomial_model.pkl\"\n",
    "with open(model_filename, mode=\"wb\") as f:  # Achten auf den korrekten Modus 'wb' für \"write binary\"\n",
    "    pickle.dump(polynomial_model, f)  # Angabe von 'f' statt 'file=f' für Klarheit und Konsistenz\n"
   ]
  }
 ],
 "metadata": {
  "kernelspec": {
   "display_name": "kia",
   "language": "python",
   "name": "python3"
  },
  "language_info": {
   "codemirror_mode": {
    "name": "ipython",
    "version": 3
   },
   "file_extension": ".py",
   "mimetype": "text/x-python",
   "name": "python",
   "nbconvert_exporter": "python",
   "pygments_lexer": "ipython3",
   "version": "3.9.19"
  }
 },
 "nbformat": 4,
 "nbformat_minor": 2
}
